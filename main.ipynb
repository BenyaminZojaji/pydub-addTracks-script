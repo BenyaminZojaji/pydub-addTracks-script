{
 "cells": [
  {
   "cell_type": "code",
   "execution_count": 2,
   "id": "665ea2f8-218e-41b4-b573-b3fc162e2ce1",
   "metadata": {},
   "outputs": [],
   "source": [
    "from os import listdir\n",
    "from pydub import AudioSegment"
   ]
  },
  {
   "cell_type": "code",
   "execution_count": 3,
   "id": "814ba4d4-6546-46d5-ab4f-0242e541d6a0",
   "metadata": {},
   "outputs": [],
   "source": [
    "break_song = AudioSegment.from_mp3('SILENCE.mp3')\n",
    "# note that i could use AudioSegment.silent(duration=8000) for 8 sec silence between parts"
   ]
  },
  {
   "cell_type": "code",
   "execution_count": 7,
   "id": "6bd23103-7b7e-4c35-a00e-5b17067efeb4",
   "metadata": {},
   "outputs": [],
   "source": [
    "playList = listdir('PATH')"
   ]
  },
  {
   "cell_type": "code",
   "execution_count": null,
   "id": "70c96224-c14b-4b65-baac-1240c9ed4521",
   "metadata": {},
   "outputs": [],
   "source": [
    "track1 = AudioSegment.from_mp3('SILENCE.mp3')\n",
    "for track in playList:\n",
    "    try:\n",
    "        track_s = AudioSegment.from_mp3(f'PATH/{track}')\n",
    "        track1+=track_s\n",
    "        track1+=break_song\n",
    "    except:\n",
    "        # files that ffmpeg coudn't open\n",
    "        print(track)\n",
    "    \n",
    "track1.export('TRACK_NAME.mp3', format='mp3')"
   ]
  },
  {
   "cell_type": "code",
   "execution_count": null,
   "id": "19925f48-4304-4313-a191-b040948cb396",
   "metadata": {},
   "outputs": [],
   "source": []
  }
 ],
 "metadata": {
  "kernelspec": {
   "display_name": "Python 3 (ipykernel)",
   "language": "python",
   "name": "python3"
  },
  "language_info": {
   "codemirror_mode": {
    "name": "ipython",
    "version": 3
   },
   "file_extension": ".py",
   "mimetype": "text/x-python",
   "name": "python",
   "nbconvert_exporter": "python",
   "pygments_lexer": "ipython3",
   "version": "3.8.10"
  }
 },
 "nbformat": 4,
 "nbformat_minor": 5
}
